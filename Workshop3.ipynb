{
 "cells": [
  {
   "cell_type": "markdown",
   "metadata": {},
   "source": [
    "# Workshop 3: Plotting in Jupyter Python Notebooks\n",
    "\n",
    "## Learning Outcomes\n",
    "\n",
    "- Plot data using the basic `plot` command in a Jupyter python notebook with appropriate axis labels and legends\n",
    "- Input data directly into a Python variable\n",
    "- Input data from simple csv file\n",
    "- Plot data using more complex plotting options, e.g. `pcolormesh`, `contour` with appropriate labelling"
   ]
  },
  {
   "cell_type": "markdown",
   "metadata": {},
   "source": [
    "## Introduction\n",
    "\n",
    "In this section we'll be learning how to make plots which not only present the data, but in a way which is visualy intiutive to other scientists to grasp the key points of your data. This often means having to transform the raw data from an experiment and thinking about what information is truly relevant.\n",
    "\n",
    "You may have some familarity of Excel or other spreadsheet based graphing software, but in many instances (and computational chemistry in particular) the preset plot options are unable to achieve the right results.\n",
    "\n",
    "We will be using Jupyter notebooks for this course. These notebooks allow documentation, flexible plotting, and even automatic analysis and manipulation of data through the use of embedded python code. Most of these examples have been adapted directly from the excellent matplotlib tutorial: https://matplotlib.org/users/pyplot_tutorial.html\n",
    "\n",
    "The cells in these notebooks alternate between explanation cells, and embedded executable code cells. The text in the code cells is `monospace` and higlighted by code syntex. To execute a code cell hit `shift + enter` keys and all the code will run. The notebook will also remember the results and variables of all previously run code cells (_the reset option is in the menu: `Kernel -> Restart`_).\n",
    "\n",
    "**You can edit any code in the cells**, and you are encouraged to do so to try different plots and see how the code works.\n",
    "\n"
   ]
  },
  {
   "cell_type": "markdown",
   "metadata": {},
   "source": [
    "## Programming in Practice and Assessment\n",
    "\n",
    "There are a lot of misconceptions about how people program. In most cases with complicated code, programmers start with pre-existing code that does almost what they want, make sure they understand how it functions, then modify it to make sure it does what they want. This is the approach we are going with in this course. Using external resources, Googling etc are strongly encouraged. \n",
    "\n",
    "*We will be explaining technical details about Python and how it works, but this is not assessable.* \n",
    "\n",
    "**The assessment of this material will be done in Assignment 2 and the Write Your Own HF lab, and will focus on using Python code to create high quality plots and write a basic computational chemistry program.** \n",
    "\n"
   ]
  },
  {
   "cell_type": "markdown",
   "metadata": {},
   "source": [
    "## Basic Plotting in Python using Matplotlib\n",
    "\n",
    "`matplotlib` is a set of plotting routines which interface well with python code. It should be available on most installs of scientific python, including Anaconda. \n",
    "\n",
    "Loading `matplotlib` is done with the `import` command. The import command can loads any available package (a collection of code functions not in default python), and all the functions of that package can be used after being imported. For example if you needed to use trigonometry functions you might import the `math` package which has them coded already as functions, rather than writing them yourself.\n"
   ]
  },
  {
   "cell_type": "code",
   "execution_count": null,
   "metadata": {},
   "outputs": [],
   "source": [
    "import matplotlib"
   ]
  },
  {
   "cell_type": "markdown",
   "metadata": {},
   "source": [
    "You might just want to use part of a package, specified by `package.subpart`. We just need the `pyplot` section of `matplotlib`. Since we will be using it a lot the`import X as Y` allows us to set a nickname; in this case anytime `plt` is written that would be the same as writing 'matplotlib.pyplot' in full. "
   ]
  },
  {
   "cell_type": "code",
   "execution_count": null,
   "metadata": {},
   "outputs": [],
   "source": [
    "import matplotlib.pyplot as plt"
   ]
  },
  {
   "cell_type": "markdown",
   "metadata": {},
   "source": [
    "We can now use the `plot()` function of the `plt` subpackage, which takes data given to it inside parantheses and returns a plot object. Functions inside a package are accessed with a `.` after the package name."
   ]
  },
  {
   "cell_type": "code",
   "execution_count": null,
   "metadata": {},
   "outputs": [],
   "source": [
    "plt.plot([1,4,9,16,25,36,49])"
   ]
  },
  {
   "cell_type": "markdown",
   "metadata": {},
   "source": [
    "The notebook will show a preview of the plot object we just created, but really we should be using the show() function to display it properly."
   ]
  },
  {
   "cell_type": "code",
   "execution_count": null,
   "metadata": {},
   "outputs": [],
   "source": [
    "plt.plot([1,4,9,16,25,36,49])\n",
    "plt.show()"
   ]
  },
  {
   "cell_type": "markdown",
   "metadata": {},
   "source": [
    "**You can save the above figure by right clicking, then selecting \"Save Image As\".**\n",
    "\n",
    "You can see that matplotlib makes some basic assumptions about the type of your data you are plotting; like assuming the single list of values are y-values, and that a line plot was wanted. We can customise all of these setting in time, but let's start with a lists of 2 values.\n",
    "\n",
    "Now since there are 2 lists plot() assumes the first one is the x-values and the second one the y-values. You can see order is very important with these commands."
   ]
  },
  {
   "cell_type": "code",
   "execution_count": null,
   "metadata": {},
   "outputs": [],
   "source": [
    "plt.plot([2,4,6,8,10,12,14],[1,4,9,16,25,36,49])\n",
    "plt.show()"
   ]
  },
  {
   "cell_type": "markdown",
   "metadata": {},
   "source": [
    "We might want to have individual data points not smoothed lines. In this case we provide another (3rd) argument which uses shorthand code for formatting; the colour (r = red, g = green, etc.) and shape (o = dot, ^ = triangle, etc.) of the datapoints. \n",
    "\n",
    "Have a try changing the marker formatting argument of the code below to try different colours and shapes. A list of options is available halfway down this page: https://matplotlib.org/api/_as_gen/matplotlib.pyplot.plot.html"
   ]
  },
  {
   "cell_type": "code",
   "execution_count": null,
   "metadata": {},
   "outputs": [],
   "source": [
    "plt.plot([2,4,6,8,10,12,14],[1,4,9,16,25,36,49], 'go')\n",
    "plt.show()"
   ]
  },
  {
   "cell_type": "markdown",
   "metadata": {},
   "source": [
    "It can be more convenient to put the list of values into a variable beforehand, and then pass those variables to plot(). This makes code easier understand and modify."
   ]
  },
  {
   "cell_type": "code",
   "execution_count": null,
   "metadata": {},
   "outputs": [],
   "source": [
    "x_vals = [2,4,6,8,10,12,14]\n",
    "y_vals = [1,4,9,16,25,36,49]\n",
    "marker_style = 'go'\n",
    "plt.plot(x_vals, y_vals, marker_style)\n",
    "plt.show()"
   ]
  },
  {
   "cell_type": "markdown",
   "metadata": {},
   "source": [
    "It is important to label your axis in figures (note that for scientific figures in papers etc, you don't need a figure title). This can be done with the basic `plt.xlabel()` and `plt.ylabel()` commands as shown below. "
   ]
  },
  {
   "cell_type": "code",
   "execution_count": null,
   "metadata": {},
   "outputs": [],
   "source": [
    "x_vals = [2,4,6,8,10,12,14]\n",
    "y_vals = [1,4,9,16,25,36,49]\n",
    "marker_style = 'go'\n",
    "plt.plot(x_vals, y_vals, marker_style)\n",
    "plt.xlabel('x')\n",
    "plt.ylabel('y')\n",
    "plt.show()"
   ]
  },
  {
   "cell_type": "markdown",
   "metadata": {},
   "source": [
    "When communicating scientific data, you want to communicate a lot of data effectively; this often means you want multiple data sets in one figure. \n",
    "\n",
    "This can be done by using multiple `plot()` commands, as below. "
   ]
  },
  {
   "cell_type": "code",
   "execution_count": null,
   "metadata": {},
   "outputs": [],
   "source": [
    "x = [0,1,2,3,4,5,6,7,8,9,10,11,12]\n",
    "y = [0,1,2,3,4,5,6,7,8,9,10,11,12]\n",
    "y_squared = [0,1,4,9,16,25,36,49,64,81,100,121,144]\n",
    "y_cubed = [0,1,8,27,64,125,216,343,512,729,1000,1331,1728]\n",
    "plt.plot(x, y, 'b.')\n",
    "plt.plot(x, y_squared, 'ro')\n",
    "plt.plot(x, y_cubed, 'k^')\n",
    "plt.xlabel('x')\n",
    "plt.ylabel('y')\n",
    "plt.show()"
   ]
  },
  {
   "cell_type": "markdown",
   "metadata": {},
   "source": [
    "Writing all that data by hand in cumbersome. We can import a module called `numpy` (_numerical python_) which allows us to generate numerical arrays of values. You can then easily do a mathematical operation to all the numbers in an array (e.g. `*` = 'multiply', `**` = 'to the power of')  "
   ]
  },
  {
   "cell_type": "code",
   "execution_count": null,
   "metadata": {},
   "outputs": [],
   "source": [
    "import numpy as np\n",
    "x = np.array([0,1,2,3,4,5,6,7,8,9,10,11,12])\n",
    "y = x\n",
    "y_squared = x**2\n",
    "y_cubed = x**3\n",
    "\n",
    "print(\"y squared values are:\", y_squared) #print() functions display text strings and variables inside them to the user\n",
    "print(\"y cubed values are:\", y_cubed)"
   ]
  },
  {
   "cell_type": "markdown",
   "metadata": {},
   "source": [
    "We can also generate numbers in array along a certain range with numpy's `.arange()` (_array range_) function. If given a single value `.arange()` will generate and array starting from **0**, counting up by 1 until one *less* than the value. \n",
    "\n",
    "_Take note_: arrays and lists in python are **numbered from 0**.\n",
    "\n",
    "\n",
    "If `.arange()` is given two values, the first will be the starting number of the generated array, and the second number will be one *less* than the ending value. A third value will specify a 'step size' between the start and the end. Remeber that arrays will start at 0, so to count up to 12 you want to specify '13' as the final value."
   ]
  },
  {
   "cell_type": "code",
   "execution_count": null,
   "metadata": {},
   "outputs": [],
   "source": [
    "simple_array = np.arange(13)\n",
    "print(\"Simple array is:\", simple_array)\n",
    "\n",
    "start_end_array = np.arange(20,41)\n",
    "print(\"Array with a start and end is:\", start_end_array)\n",
    "\n",
    "step_size_array = np.arange(1,100,10)\n",
    "print(\"Array with different step size is:\", step_size_array)"
   ]
  },
  {
   "cell_type": "markdown",
   "metadata": {},
   "source": [
    "We can make use of numpy arrays, and move the mathematical operations into the `plot()` function, to significantly clean up the code used to generate the plot above."
   ]
  },
  {
   "cell_type": "code",
   "execution_count": null,
   "metadata": {},
   "outputs": [],
   "source": [
    "import matplotlib.pyplot as plt\n",
    "import numpy as np\n",
    "\n",
    "x = np.arange(13)\n",
    "#operations on the array of x-values moved into the plot() function\n",
    "plt.plot(x, x, 'b.')\n",
    "plt.plot(x, x**2, 'ro')\n",
    "plt.plot(x, x**3, 'k^')    \n",
    "plt.xlabel('x')\n",
    "plt.ylabel('y')\n",
    "plt.show()"
   ]
  },
  {
   "cell_type": "markdown",
   "metadata": {},
   "source": [
    "If you have multiple data sets in one plot, you need to add a legend. This is done by including both the `label='dlkafjdaslkfj'` and `plt.legend()` commands.  "
   ]
  },
  {
   "cell_type": "code",
   "execution_count": null,
   "metadata": {},
   "outputs": [],
   "source": [
    "import matplotlib.pyplot as plt\n",
    "import numpy as np\n",
    "\n",
    "x = np.arange(13)\n",
    "#operations on the array of x-values moved into the plot() function\n",
    "plt.plot(x, x, 'b.',label='x')\n",
    "plt.plot(x, x**2, 'ro',label='x squared')\n",
    "plt.plot(x, x**3, 'k^',label='x cubed')    \n",
    "plt.xlabel('x')\n",
    "plt.ylabel('y')\n",
    "plt.legend()\n",
    "plt.show()"
   ]
  },
  {
   "cell_type": "markdown",
   "metadata": {},
   "source": [
    "We can even use superscripts and subscripts in our labels like below. "
   ]
  },
  {
   "cell_type": "code",
   "execution_count": null,
   "metadata": {},
   "outputs": [],
   "source": [
    "import matplotlib.pyplot as plt\n",
    "import numpy as np\n",
    "\n",
    "x = np.arange(13)\n",
    "#operations on the array of x-values moved into the plot() function\n",
    "plt.plot(x, x, 'b.',label=r'x')\n",
    "plt.plot(x, x**2, 'ro',label=r'$x^2$')\n",
    "plt.plot(x, x**3, 'k^',label=r'$x^3$')    \n",
    "plt.xlabel('x')\n",
    "plt.ylabel('y')\n",
    "plt.legend()\n",
    "plt.show()"
   ]
  },
  {
   "cell_type": "markdown",
   "metadata": {},
   "source": [
    "With using what we've learnt, we can quickly generate more interesting plots. See the sine function generated below.\n",
    "\n",
    "`plt` functions can be used to add axis labels after generating the plot; and the range of the axes set with `plt.axis(x_min,x_max,y_min,y_max)`."
   ]
  },
  {
   "cell_type": "code",
   "execution_count": null,
   "metadata": {},
   "outputs": [],
   "source": [
    "import matplotlib.pyplot as plt\n",
    "import numpy as np\n",
    "\n",
    "\n",
    "theta = np.arange(0,360,30)\n",
    "amplitude = np.sin(theta * np.pi/180)  #convert into radians\n",
    "\n",
    "plt.plot(theta, amplitude, 'ko')\n",
    "plt.ylabel('Amplitude')\n",
    "plt.xlabel('Angle')\n",
    "plt.axis([-10,370,-1.2,1.2])  #make plot axes slightly wider than the data range\n",
    "plt.show()"
   ]
  },
  {
   "cell_type": "markdown",
   "metadata": {},
   "source": [
    "Try modifying some of the options and values in the examples above to see what happens. If you feel confident you understand how these examples work, please move on to the next section. \n",
    "\n",
    "*Remember that in your assignment, you will be asked to create one plot of this type to present your data.*"
   ]
  },
  {
   "cell_type": "markdown",
   "metadata": {},
   "source": [
    "## More Complex Plot types\n",
    "\n",
    "Often data is a function of two variables, e.g. z=f(x,y). In this case, there are two plot types that are commonly used to illustrate the data.\n",
    "\n",
    "### `pcolormesh`"
   ]
  },
  {
   "cell_type": "code",
   "execution_count": null,
   "metadata": {},
   "outputs": [],
   "source": [
    "r,theta = np.meshgrid(np.linspace(0,10,100),np.linspace(0,180,300))\n",
    "Energy = r**2+(theta/10)**2\n",
    "cp=plt.pcolormesh(r,theta,Energy,cmap='cubehelix')\n",
    "cbar=plt.colorbar(cp)\n",
    "cbar.set_label(r'Energy ($E_H$)')\n",
    "plt.xlabel(r'r ($\\AA$)')\n",
    "plt.ylabel(r'$\\theta$ ($\\deg$)')\n",
    "plt.show()"
   ]
  },
  {
   "cell_type": "markdown",
   "metadata": {},
   "source": [
    "### `contour`"
   ]
  },
  {
   "cell_type": "code",
   "execution_count": null,
   "metadata": {},
   "outputs": [],
   "source": [
    "r,theta = np.meshgrid(np.linspace(0,10,100),np.linspace(0,180,300))\n",
    "Energy = r**2+(theta/10)**2\n",
    "ncontours=30\n",
    "cp=plt.contour(r,theta,Energy,ncontours,cmap='cubehelix')\n",
    "cbar=plt.colorbar(cp)\n",
    "cbar.set_label(r'Energy ($E_H$)')\n",
    "plt.xlabel(r'r ($\\AA$)')\n",
    "plt.ylabel(r'$\\theta$ ($\\deg$)')\n",
    "plt.show()"
   ]
  },
  {
   "cell_type": "markdown",
   "metadata": {},
   "source": [
    "## Presenting Data\n",
    "\n",
    "It is a cliche by now, but we are living in an age of big data. As scientists, we need to be able to work with complex data sets and extract and present useful information. \n",
    "\n",
    "To do this, you need to define a research question and identify relevant variables, then quantify the value of these variables either numerically or with qualitative descriptions. If numerically, there may be a single number or multiple numbers; we are going to call these single-valued and multiple-valued properties. \n",
    "\n",
    "*In computational chemistry, some key examples of single-valued properties include energy, dipole moment, molecular polarisability, while key examples of multiple-valued properties include molecular geometry, partial charges, IR or NMR spectral parameters. It is more difficult to plot multiple-valued properties - you may need to use multiple data sets on a single 2D plot, a 3D plot or to select the most informative/ interesting single value amongst the many possible values.*  \n",
    "\n",
    "Selecting variables to consider is not always straightforward. For example, you may be interested in knowing how the number of pets per person differs by the size of the city they live in across Australia. The number of pets per person is a single-valued numerical property. However, there are many choices for how to define the 'size of the city they live in'; do you mean geographical size, total population, etc.   \n",
    "\n",
    "When discussing the result of a computational chemistry simulation or lab-based experiment, often you can classify your variables as input variables (independent variables) and output variables (dependent variables). \n",
    "\n",
    "The default (which you learnt in high school) is to restrict yourself to one independent variable and plot independent variable on x axis and dependent variable on the y axis. However, in research, we often go beyond these defaults. A simple example is having multiple data sets on a single 2D plot that each correspond to a given value of a second independent variable. In the above case, you can imagine plotting pets/person (y-axis) as a function of city population size (x-axis) for each of a range of age brakets (different marker types, shown in legend). \n",
    "\n",
    "These simple ideas can be extrapolated to computationally chemistry; this is one of the key goals for your Assignment. \n",
    "\n"
   ]
  },
  {
   "cell_type": "markdown",
   "metadata": {},
   "source": [
    "### Tables: assignment hints\n",
    "- Look at tables in papers. There are no vertical lines. Horizontal lines can be used to group columns of data together. \n",
    "\n",
    "\n",
    "### Figures: assignment hints\n",
    "You will be marked on the quality of your figure and how clearly it presents the message. Therefore: \n",
    "- Make sure you can read the axis and tick labels\n",
    "- Choose the limits of your axis carefully to show the data clearly\n",
    "\n"
   ]
  },
  {
   "cell_type": "markdown",
   "metadata": {},
   "source": [
    "## Some examples\n"
   ]
  },
  {
   "cell_type": "code",
   "execution_count": null,
   "metadata": {},
   "outputs": [],
   "source": [
    "sns.reset_orig()\n",
    "\n",
    "theta = np.arange(0,360,30)\n",
    "amplitude = np.sin(theta * np.pi/180)  #convert into radians\n",
    "\n",
    "plt.plot(theta, amplitude, 'ko')\n",
    "plt.xticks(fontsize=12)\n",
    "plt.yticks(fontsize=12)\n",
    "plt.ylabel('Amplitude',fontsize=15,fontweight='bold')\n",
    "plt.xlabel(r'Angle ($\\degree$)',fontsize=15,fontweight='bold')\n",
    "plt.axis([-10,370,-1.2,1.2])  \n",
    "\n",
    "plt.show()\n",
    "\n"
   ]
  },
  {
   "cell_type": "code",
   "execution_count": null,
   "metadata": {},
   "outputs": [],
   "source": [
    "\n",
    "import seaborn as sns\n",
    "sns.set()\n",
    "sns.set_style('ticks')\n",
    "sns.set_context(\"talk\")\n",
    "\n",
    "theta = np.arange(0,360,30)\n",
    "amplitude = np.sin(theta * np.pi/180)  #convert into radians\n",
    "\n",
    "plt.plot(theta, amplitude, 'ko')\n",
    "plt.ylabel('Amplitude')\n",
    "plt.xlabel(r'Angle ($\\degree$)')\n",
    "plt.axis([-10,370,-1.2,1.2])  \n",
    "\n",
    "plt.show()\n",
    "\n"
   ]
  },
  {
   "cell_type": "code",
   "execution_count": null,
   "metadata": {},
   "outputs": [],
   "source": [
    "\n",
    "import seaborn as sns\n",
    "sns.set()\n",
    "\n",
    "theta = np.arange(0,360,30)\n",
    "amplitude = np.sin(theta * np.pi/180)  #convert into radians\n",
    "\n",
    "plt.plot(theta, amplitude, 'ko')\n",
    "plt.xticks(fontsize=12)\n",
    "plt.yticks(fontsize=12)\n",
    "plt.ylabel('Amplitude',fontsize=15,fontweight='bold')\n",
    "plt.xlabel(r'Angle ($\\degree$)',fontsize=15,fontweight='bold')\n",
    "plt.axis([-10,370,-1.2,1.2])  \n",
    "\n",
    "plt.show()\n"
   ]
  },
  {
   "cell_type": "markdown",
   "metadata": {},
   "source": [
    "# Exercises"
   ]
  },
  {
   "cell_type": "markdown",
   "metadata": {},
   "source": [
    "1) Plot a Gaussian function $y = exp(-a r^2)$ and a Slater function $y = exp(-b r)$ for a variety of values of $a$ and $b$"
   ]
  },
  {
   "cell_type": "code",
   "execution_count": null,
   "metadata": {},
   "outputs": [],
   "source": []
  },
  {
   "cell_type": "markdown",
   "metadata": {},
   "source": [
    "Write a short paragraphs (2-4 sentences) drawing conclusions or relevant discussion points from your figure.\n",
    "\n",
    "\n",
    "-----\n",
    "\n",
    "\n",
    "-----"
   ]
  },
  {
   "cell_type": "markdown",
   "metadata": {},
   "source": [
    "2) For each element Li-Ne, we have generated two different core basis functions.\n",
    "\n",
    "**Slater:** $\\chi_S(r) = exp(-Z_{eff}*r)$\n",
    "\n",
    "**Ramp-Gaussian:** $\\chi_R(r) = 0.282095*c_1*\\sqrt{(1+n)(1+2n)(3+2n)}*(1-r)^n + 0.712705*c_2 *\\alpha^{3/4}exp(-\\alpha r^2)$\n",
    "\n",
    "\n",
    "|Element| $Z_{eff}$ | $c_1$     | $n$  | $c_2$   | $\\alpha$       |\n",
    "|----|------|--------------|----|--------------|-------------|\n",
    "| Li | 2.69 | 0.2730262183 |  4 | 0.8163954599 | 1.526017431 |\n",
    "| Be | 3.68 | 0.3622450889 |  5 | 0.7272642323 | 2.463572762 |\n",
    "| B  | 4.68 | 0.4360306876 |  6 | 0.6492041387 | 3.587269047 |\n",
    "| C  | 5.67 | 0.4938827304 |  7 | 0.5856474836 | 4.896756543 |\n",
    "| N  | 6.67 | 0.5427120233 |  8 | 0.5310134749 | 6.401889787 |\n",
    "| O  | 7.66 | 0.5816851812 |  9 | 0.4866186707 | 8.101958121 |\n",
    "| F  | 8.65 | 0.6144117594 | 10 | 0.4489925087 | 10.00106287 |\n",
    "| Ne | 9.64 |  0.642248393 | 11 | 0.4167850089 | 12.10057083 |\n"
   ]
  },
  {
   "cell_type": "markdown",
   "metadata": {},
   "source": [
    "Create at least three plots to represent some of this information. Note that this is probably too much information to represent in just a single plot.\n",
    "\n",
    "For each figure, write a short paragraph (2-4 sentences) drawing conclusions or relevant discussion points from your data."
   ]
  },
  {
   "cell_type": "code",
   "execution_count": null,
   "metadata": {},
   "outputs": [],
   "source": [
    "# Plot 1 here"
   ]
  },
  {
   "cell_type": "markdown",
   "metadata": {},
   "source": [
    "Discussion Point 1 here"
   ]
  },
  {
   "cell_type": "code",
   "execution_count": null,
   "metadata": {},
   "outputs": [],
   "source": [
    "# Plot 2 here"
   ]
  },
  {
   "cell_type": "markdown",
   "metadata": {},
   "source": [
    "Discussion Point 2 here"
   ]
  },
  {
   "cell_type": "code",
   "execution_count": null,
   "metadata": {},
   "outputs": [],
   "source": [
    "# Plot 3 here"
   ]
  },
  {
   "cell_type": "markdown",
   "metadata": {},
   "source": [
    "Discussion Point 3 here"
   ]
  }
 ],
 "metadata": {
  "kernelspec": {
   "display_name": "Python 3",
   "language": "python",
   "name": "python3"
  },
  "language_info": {
   "codemirror_mode": {
    "name": "ipython",
    "version": 3
   },
   "file_extension": ".py",
   "mimetype": "text/x-python",
   "name": "python",
   "nbconvert_exporter": "python",
   "pygments_lexer": "ipython3",
   "version": "3.7.0"
  }
 },
 "nbformat": 4,
 "nbformat_minor": 2
}
